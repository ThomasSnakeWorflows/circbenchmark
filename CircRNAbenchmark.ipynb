{
 "cells": [
  {
   "cell_type": "code",
   "execution_count": 1,
   "metadata": {},
   "outputs": [],
   "source": [
    "import pandas as pd\n",
    "from collections import defaultdict\n",
    "\n",
    "import matplotlib.pyplot as plt\n",
    "from upsetplot import UpSet"
   ]
  },
  {
   "cell_type": "code",
   "execution_count": 27,
   "metadata": {},
   "outputs": [],
   "source": [
    "## Some utility functions\n",
    "def get_circminer(circ_file, min_ccr=1):\n",
    "    names=[\"chrom\", \"start\", \"end\", \"nccr\", \"type\", \"cons_splice\", \"splice\", \"pass\", \"supp_reads\"]\n",
    "    circrnas = pd.read_csv(circ_file, sep=\"\\t\", names=names)\n",
    "    circrnas = circrnas[circrnas['nccr']>=min_ccr]\n",
    "    return circrnas.sort_values([\"chrom\", \"start\"])\n",
    "\n",
    "def get_circeplorer(circ_file, min_ccr=1):\n",
    "    names=[\"chrom\", \"start\", \"end\", \"name\", \"score\", \"strand\", \"thickStart\", \n",
    "           \"thickEnd\", \"itemRgb\", \"exonCount\", \"exonSizes\", \"exonOffsets\", \n",
    "           \"readNumber\", \"circType\", \"geneName\", \"isoformName\", \"exonIndex/intronIndex\", \n",
    "           \"flankIntron\"]\n",
    "    circrnas = pd.read_csv(circ_file, sep=\"\\t\", names=names)\n",
    "    circrnas['start'] = circrnas['start'] + 1\n",
    "    circrnas = circrnas.rename(columns={\"readNumber\": \"nccr\"})\n",
    "    circrnas = circrnas[circrnas['nccr']>=min_ccr]\n",
    "    return circrnas.sort_values([\"chrom\", \"start\"])\n",
    "\n",
    "def get_circeplorer2(circ_file, min_ccr=1):\n",
    "    return get_circeplorer(circ_file, min_ccr)\n",
    "\n",
    "def get_dcc(circ_file, min_ccr=1):\n",
    "    circrnas = pd.read_csv(circ_file, sep=\"\\t\")\n",
    "    circrnas = circrnas.rename(columns={\"Chr\": \"chrom\", \"Start\": \"start\", \"End\": \"end\", \n",
    "                                        \"Chimeric.out.junction\": \"nccr\"})\n",
    "    circrnas = circrnas[circrnas['nccr']>=min_ccr]\n",
    "    return circrnas.sort_values([\"chrom\", \"start\"])\n",
    "\n",
    "def get_cirminer(circ_file, min_ccr=1):\n",
    "    names=[\"chrom\",\"start\",\"end\",\"nccr\",\"type\",\"cons_splice\", \"splice\", \"pass\", \"supp_reads\"]\n",
    "    circrnas = pd.read_csv(circ_file, sep=\"\\t\", names=names)\n",
    "    circrnas = circrnas = circrnas[circrnas['nccr']>=min_ccr]\n",
    "    return circrnas.sort_values([\"chrom\", \"start\"])\n",
    "\n",
    "def set_key(record):\n",
    "    return \"-\".join(map(str, [record[\"chrom\"], record[\"start\"], record[\"end\"]]))\n",
    "\n",
    "def get_keys(circrnas):\n",
    "    circrnas_dict = defaultdict()\n",
    "    for index, row in circrnas.iterrows():\n",
    "        circrnas_dict[set_key(row)] = row\n",
    "    circ_keys = set(circrnas_dict.keys())\n",
    "    return circ_keys\n",
    "\n",
    "def get_all_keys(circrnas):\n",
    "    circ_keys = defaultdict()\n",
    "    for tool, circs in circrnas.items():\n",
    "        circ_keys[tool] = get_keys(circs)\n",
    "    return circ_keys\n",
    "\n",
    "def getRNaseCirc(condition, min_ccr=1):\n",
    "    circexplorer = get_circeplorer(\"circrnas/\"+condition+\"/circexplorer_circ.txt\", min_ccr)\n",
    "    circexplorer2 = get_circeplorer2(\"circrnas/\"+condition+\"/circexplorer2_circrna.txt\", min_ccr)\n",
    "    dcc = get_dcc(\"circrnas/\"+condition+\"/dcc/CircRNACount\", min_ccr)\n",
    "    circminer = get_cirminer(\"circrnas/\"+condition+\"/circminer.circ_report\", min_ccr=min_ccr)\n",
    "    circrnas = {\"CIRCexplorer\": circexplorer, \"CIRCexplorer2\": circexplorer2, \"DCC\": dcc, \n",
    "                \"Circminer\": circminer}\n",
    "    return circrnas\n",
    "\n",
    "def get_support(circrnas):\n",
    "    circ_keys = get_all_keys(circrnas)\n",
    "    sorted_tools = sorted(circ_keys.keys())\n",
    "    all_ids = set.union(*circ_keys.values())\n",
    "    tool_support = []\n",
    "    for circ in all_ids:\n",
    "        counter = [True]\n",
    "        for tool in sorted_tools:\n",
    "            counter.append(True if circ in circ_keys[tool] else False)\n",
    "        counter.append(circ)\n",
    "        tool_support.append(counter)\n",
    "    df = pd.DataFrame.from_records(tool_support,columns=[\"Union\"] + sorted_tools +[\"id\"])\n",
    "    df = df.set_index(tools)\n",
    "    return df\n",
    "\n",
    "def get_not_depleted(circrnas, tools):\n",
    "    after = get_all_keys(circrnas[\"HeLaR+\"])\n",
    "    before = get_all_keys(circrnas[\"HeLaR-\"])\n",
    "    sorted_tools = sorted(circrnas.keys())\n",
    "    not_depleted = []\n",
    "    percent_not_depleted = []\n",
    "    for tool in tools:\n",
    "        not_deple = after[tool] & before[tool]\n",
    "        not_depleted.append(len(not_deple))\n",
    "        percent_not_depleted.append(len(not_deple)/len(before[tool]))\n",
    "    return {\"Not depleted\": not_depleted, \"Not depleted (%)\": percent_not_depleted}"
   ]
  },
  {
   "cell_type": "code",
   "execution_count": 3,
   "metadata": {},
   "outputs": [],
   "source": [
    "treatments = [\"HeLaR-\", \"HeLaR+\"]\n",
    "min_ccr = 2\n",
    "rnas = defaultdict()\n",
    "rnas[\"HeLaR-\"] = getRNaseCirc(\"HeLaRminus\", min_ccr=min_ccr)\n",
    "rnas[\"HeLaR+\"] = getRNaseCirc(\"HeLaRplus\", min_ccr=min_ccr)"
   ]
  },
  {
   "cell_type": "code",
   "execution_count": 28,
   "metadata": {},
   "outputs": [],
   "source": [
    "tools = [\"Circminer\", \"CIRCexplorer\", \"CIRCexplorer2\", \"DCC\"]\n",
    "treatments = [\"HeLaR-\", \"HeLaR+\"]\n",
    "calls = defaultdict(list)\n",
    "for condition in treatments:\n",
    "    for tool in tools:\n",
    "        calls[condition].append(len(rnas[condition][tool]))\n",
    "calls['tool'] = tools\n",
    "calls.update(get_not_depleted(rnas, tools))"
   ]
  },
  {
   "cell_type": "markdown",
   "metadata": {},
   "source": [
    "#### Detailed comparison or circ detection tools"
   ]
  },
  {
   "cell_type": "code",
   "execution_count": 30,
   "metadata": {},
   "outputs": [
    {
     "data": {
      "text/html": [
       "<div>\n",
       "<style scoped>\n",
       "    .dataframe tbody tr th:only-of-type {\n",
       "        vertical-align: middle;\n",
       "    }\n",
       "\n",
       "    .dataframe tbody tr th {\n",
       "        vertical-align: top;\n",
       "    }\n",
       "\n",
       "    .dataframe thead th {\n",
       "        text-align: right;\n",
       "    }\n",
       "</style>\n",
       "<table border=\"1\" class=\"dataframe\">\n",
       "  <thead>\n",
       "    <tr style=\"text-align: right;\">\n",
       "      <th></th>\n",
       "      <th>HeLaR-</th>\n",
       "      <th>HeLaR+</th>\n",
       "      <th>Not depleted</th>\n",
       "      <th>Not depleted (%)</th>\n",
       "    </tr>\n",
       "    <tr>\n",
       "      <th>tool</th>\n",
       "      <th></th>\n",
       "      <th></th>\n",
       "      <th></th>\n",
       "      <th></th>\n",
       "    </tr>\n",
       "  </thead>\n",
       "  <tbody>\n",
       "    <tr>\n",
       "      <th>Circminer</th>\n",
       "      <td>6170</td>\n",
       "      <td>7518</td>\n",
       "      <td>3247</td>\n",
       "      <td>0.526256</td>\n",
       "    </tr>\n",
       "    <tr>\n",
       "      <th>CIRCexplorer</th>\n",
       "      <td>3446</td>\n",
       "      <td>5445</td>\n",
       "      <td>1873</td>\n",
       "      <td>0.543529</td>\n",
       "    </tr>\n",
       "    <tr>\n",
       "      <th>CIRCexplorer2</th>\n",
       "      <td>3446</td>\n",
       "      <td>5445</td>\n",
       "      <td>1873</td>\n",
       "      <td>0.543529</td>\n",
       "    </tr>\n",
       "    <tr>\n",
       "      <th>DCC</th>\n",
       "      <td>5343</td>\n",
       "      <td>6258</td>\n",
       "      <td>2410</td>\n",
       "      <td>0.451057</td>\n",
       "    </tr>\n",
       "  </tbody>\n",
       "</table>\n",
       "</div>"
      ],
      "text/plain": [
       "               HeLaR-  HeLaR+  Not depleted  Not depleted (%)\n",
       "tool                                                         \n",
       "Circminer        6170    7518          3247          0.526256\n",
       "CIRCexplorer     3446    5445          1873          0.543529\n",
       "CIRCexplorer2    3446    5445          1873          0.543529\n",
       "DCC              5343    6258          2410          0.451057"
      ]
     },
     "execution_count": 30,
     "metadata": {},
     "output_type": "execute_result"
    }
   ],
   "source": [
    "df = pd.DataFrame(calls).set_index(\"tool\")\n",
    "df"
   ]
  },
  {
   "cell_type": "code",
   "execution_count": null,
   "metadata": {},
   "outputs": [],
   "source": [
    "support = get_support(rnas[\"HeLaR-\"])\n",
    "fig = plt.figure(figsize=(100, 20))\n",
    "upset = UpSet(support, subset_size='count', sort_by=\"cardinality\", show_counts='%d', element_size=55)\n",
    "upset.plot(fig = fig)\n",
    "temp = plt.title(\"Tools true positives\\n\",fontsize=15)"
   ]
  },
  {
   "cell_type": "code",
   "execution_count": null,
   "metadata": {},
   "outputs": [],
   "source": [
    "support = get_support(rnas[\"HeLaR+\"])\n",
    "fig = plt.figure(figsize=(100, 20))\n",
    "upset = UpSet(support, subset_size='count', sort_by=\"cardinality\", show_counts='%d', element_size=55)\n",
    "upset.plot(fig = fig)\n",
    "temp = plt.title(\"Tools true positives\\n\",fontsize=15)"
   ]
  },
  {
   "cell_type": "code",
   "execution_count": 34,
   "metadata": {},
   "outputs": [
    {
     "data": {
      "text/html": [
       "<div>\n",
       "<style scoped>\n",
       "    .dataframe tbody tr th:only-of-type {\n",
       "        vertical-align: middle;\n",
       "    }\n",
       "\n",
       "    .dataframe tbody tr th {\n",
       "        vertical-align: top;\n",
       "    }\n",
       "\n",
       "    .dataframe thead th {\n",
       "        text-align: right;\n",
       "    }\n",
       "</style>\n",
       "<table border=\"1\" class=\"dataframe\">\n",
       "  <thead>\n",
       "    <tr style=\"text-align: right;\">\n",
       "      <th></th>\n",
       "      <th>chrom</th>\n",
       "      <th>start</th>\n",
       "      <th>end</th>\n",
       "      <th>nccr</th>\n",
       "    </tr>\n",
       "  </thead>\n",
       "  <tbody>\n",
       "    <tr>\n",
       "      <th>0</th>\n",
       "      <td>1</td>\n",
       "      <td>805799</td>\n",
       "      <td>810170</td>\n",
       "      <td>2</td>\n",
       "    </tr>\n",
       "    <tr>\n",
       "      <th>1</th>\n",
       "      <td>1</td>\n",
       "      <td>925922</td>\n",
       "      <td>939412</td>\n",
       "      <td>3</td>\n",
       "    </tr>\n",
       "    <tr>\n",
       "      <th>2</th>\n",
       "      <td>1</td>\n",
       "      <td>935772</td>\n",
       "      <td>939412</td>\n",
       "      <td>4</td>\n",
       "    </tr>\n",
       "    <tr>\n",
       "      <th>10</th>\n",
       "      <td>1</td>\n",
       "      <td>1256045</td>\n",
       "      <td>1263386</td>\n",
       "      <td>2</td>\n",
       "    </tr>\n",
       "    <tr>\n",
       "      <th>12</th>\n",
       "      <td>1</td>\n",
       "      <td>1256992</td>\n",
       "      <td>1257310</td>\n",
       "      <td>4</td>\n",
       "    </tr>\n",
       "    <tr>\n",
       "      <th>...</th>\n",
       "      <td>...</td>\n",
       "      <td>...</td>\n",
       "      <td>...</td>\n",
       "      <td>...</td>\n",
       "    </tr>\n",
       "    <tr>\n",
       "      <th>22291</th>\n",
       "      <td>X</td>\n",
       "      <td>154769167</td>\n",
       "      <td>154770879</td>\n",
       "      <td>3</td>\n",
       "    </tr>\n",
       "    <tr>\n",
       "      <th>22293</th>\n",
       "      <td>X</td>\n",
       "      <td>154789954</td>\n",
       "      <td>154792285</td>\n",
       "      <td>2</td>\n",
       "    </tr>\n",
       "    <tr>\n",
       "      <th>22295</th>\n",
       "      <td>X</td>\n",
       "      <td>155220183</td>\n",
       "      <td>155238859</td>\n",
       "      <td>2</td>\n",
       "    </tr>\n",
       "    <tr>\n",
       "      <th>22297</th>\n",
       "      <td>X</td>\n",
       "      <td>155415575</td>\n",
       "      <td>155419562</td>\n",
       "      <td>16</td>\n",
       "    </tr>\n",
       "    <tr>\n",
       "      <th>22298</th>\n",
       "      <td>X</td>\n",
       "      <td>155506898</td>\n",
       "      <td>155537118</td>\n",
       "      <td>2</td>\n",
       "    </tr>\n",
       "  </tbody>\n",
       "</table>\n",
       "<p>6258 rows × 4 columns</p>\n",
       "</div>"
      ],
      "text/plain": [
       "      chrom      start        end  nccr\n",
       "0         1     805799     810170     2\n",
       "1         1     925922     939412     3\n",
       "2         1     935772     939412     4\n",
       "10        1    1256045    1263386     2\n",
       "12        1    1256992    1257310     4\n",
       "...     ...        ...        ...   ...\n",
       "22291     X  154769167  154770879     3\n",
       "22293     X  154789954  154792285     2\n",
       "22295     X  155220183  155238859     2\n",
       "22297     X  155415575  155419562    16\n",
       "22298     X  155506898  155537118     2\n",
       "\n",
       "[6258 rows x 4 columns]"
      ]
     },
     "execution_count": 34,
     "metadata": {},
     "output_type": "execute_result"
    }
   ],
   "source": [
    "rnas[\"HeLaR+\"]['DCC']"
   ]
  },
  {
   "cell_type": "code",
   "execution_count": 44,
   "metadata": {},
   "outputs": [],
   "source": [
    "dcc_selected = get_keys(rnas[\"HeLaR+\"]['DCC'])\n",
    "circrnas = pd.read_csv(\"circrnas/HeLaRplus/dcc/CircCoordinates\", sep=\"\\t\")\n",
    "circrnas = circrnas.rename(columns={\"Chr\": \"chrom\", \"Start\": \"start\", \"End\": \"end\"})\n",
    "circrnas_sel = []\n",
    "for index, row in circrnas.iterrows():\n",
    "    circ_key = set_key(row)\n",
    "    circrnas_sel.append(circ_key in dcc_selected)\n",
    "circrnas = circrnas[circrnas_sel]"
   ]
  },
  {
   "cell_type": "code",
   "execution_count": 112,
   "metadata": {},
   "outputs": [],
   "source": [
    "circrnas_annot = []\n",
    "for index, row in circrnas.iterrows():\n",
    "    annot = row['Start-End Region']\n",
    "    reannot = \"-\".join(sorted(annot.split('-')))\n",
    "    if (\"intron\" in annot or \"exon\" in annot) and \"intergenic\" in annot:\n",
    "        reannot = \"mixed\"\n",
    "    elif \"intron\" in annot:\n",
    "        reannot = \"intron\"\n",
    "    elif \"intergenic\" in annot:\n",
    "        reannot = \"intergenic\"\n",
    "    circrnas_annot.append(reannot)\n",
    "circrnas['annotation'] = circrnas_annot"
   ]
  },
  {
   "cell_type": "code",
   "execution_count": 113,
   "metadata": {},
   "outputs": [
    {
     "data": {
      "text/plain": [
       "array(['exon-exon', 'intergenic', 'intron', 'mixed'], dtype=object)"
      ]
     },
     "execution_count": 113,
     "metadata": {},
     "output_type": "execute_result"
    }
   ],
   "source": [
    "sizes = circrnas.groupby(\"annotation\").size() "
   ]
  },
  {
   "cell_type": "code",
   "execution_count": 115,
   "metadata": {},
   "outputs": [
    {
     "data": {
      "image/png": "[encoded data removed]",
      "text/plain": [
       "<Figure size 432x288 with 1 Axes>"
      ]
     },
     "metadata": {},
     "output_type": "display_data"
    }
   ],
   "source": [
    "import matplotlib.pyplot as plt\n",
    "\n",
    "# Pie chart, where the slices will be ordered and plotted counter-clockwise:\n",
    "labels = sizes.index.values\n",
    "pie_sizes = sizes.values\n",
    "explode = (0.1, 0, 0, 0)  # only \"explode\" the 2nd slice (i.e. 'Hogs')\n",
    "\n",
    "fig1, ax1 = plt.subplots()\n",
    "ax1.pie(pie_sizes, explode=explode, labels=labels, autopct='%1.1f%%',\n",
    "        shadow=False, startangle=90)\n",
    "ax1.axis('equal')  # Equal aspect ratio ensures that pie is drawn as a circle.\n",
    "\n",
    "plt.show()"
   ]
  },
  {
   "cell_type": "code",
   "execution_count": 116,
   "metadata": {},
   "outputs": [],
   "source": [
    "dcc_selected = get_keys(rnas[\"HeLaR-\"]['DCC'])\n",
    "circrnas = pd.read_csv(\"circrnas/HeLaRplus/dcc/CircCoordinates\", sep=\"\\t\")\n",
    "circrnas = circrnas.rename(columns={\"Chr\": \"chrom\", \"Start\": \"start\", \"End\": \"end\"})\n",
    "circrnas_sel = []\n",
    "for index, row in circrnas.iterrows():\n",
    "    circ_key = set_key(row)\n",
    "    circrnas_sel.append(circ_key in dcc_selected)\n",
    "circrnas = circrnas[circrnas_sel]"
   ]
  },
  {
   "cell_type": "code",
   "execution_count": 117,
   "metadata": {},
   "outputs": [],
   "source": [
    "circrnas_annot = []\n",
    "for index, row in circrnas.iterrows():\n",
    "    annot = row['Start-End Region']\n",
    "    reannot = \"-\".join(sorted(annot.split('-')))\n",
    "    if (\"intron\" in annot or \"exon\" in annot) and \"intergenic\" in annot:\n",
    "        reannot = \"mixed\"\n",
    "    elif \"intron\" in annot:\n",
    "        reannot = \"intron\"\n",
    "    elif \"intergenic\" in annot:\n",
    "        reannot = \"intergenic\"\n",
    "    circrnas_annot.append(reannot)\n",
    "circrnas['annotation'] = circrnas_annot"
   ]
  },
  {
   "cell_type": "code",
   "execution_count": 118,
   "metadata": {},
   "outputs": [],
   "source": [
    "sizes = circrnas.groupby(\"annotation\").size() "
   ]
  },
  {
   "cell_type": "code",
   "execution_count": 119,
   "metadata": {},
   "outputs": [
    {
     "data": {
      "image/png": "[encoded data removed]",
      "text/plain": [
       "<Figure size 432x288 with 1 Axes>"
      ]
     },
     "metadata": {},
     "output_type": "display_data"
    }
   ],
   "source": [
    "import matplotlib.pyplot as plt\n",
    "\n",
    "# Pie chart, where the slices will be ordered and plotted counter-clockwise:\n",
    "labels = sizes.index.values\n",
    "pie_sizes = sizes.values\n",
    "explode = (0.1, 0, 0, 0)  # only \"explode\" the 2nd slice (i.e. 'Hogs')\n",
    "\n",
    "fig1, ax1 = plt.subplots()\n",
    "ax1.pie(pie_sizes, explode=explode, labels=labels, autopct='%1.1f%%',\n",
    "        shadow=False, startangle=90)\n",
    "ax1.axis('equal')  # Equal aspect ratio ensures that pie is drawn as a circle.\n",
    "\n",
    "plt.show()"
   ]
  },
  {
   "cell_type": "code",
   "execution_count": null,
   "metadata": {},
   "outputs": [],
   "source": []
  }
 ],
 "metadata": {
  "kernelspec": {
   "display_name": "Python 3",
   "language": "python",
   "name": "python3"
  },
  "language_info": {
   "codemirror_mode": {
    "name": "ipython",
    "version": 3
   },
   "file_extension": ".py",
   "mimetype": "text/x-python",
   "name": "python",
   "nbconvert_exporter": "python",
   "pygments_lexer": "ipython3",
   "version": "3.6.9"
  }
 },
 "nbformat": 4,
 "nbformat_minor": 2
}
